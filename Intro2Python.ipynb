{
  "nbformat": 4,
  "nbformat_minor": 0,
  "metadata": {
    "colab": {
      "name": "Intro2Python.ipynb",
      "version": "0.3.2",
      "provenance": [],
      "collapsed_sections": []
    },
    "kernelspec": {
      "name": "python2",
      "display_name": "Python 2"
    }
  },
  "cells": [
    {
      "metadata": {
        "id": "zxS5uRloJuS0",
        "colab_type": "text"
      },
      "cell_type": "markdown",
      "source": [
        "# Introduction to Python\n",
        "\n",
        "In this workshop, we will be covering basics of python as well as two very useful libraries that you will need to store and manipulate your data. \n",
        "\n",
        "The two libraries are:\n",
        "\n",
        "1.   Numpy - *Numerical Python is fundamental for scientific computations in python*\n",
        "2.   Pandas - *Python Data Analysis Library provides high performance and easy to use data structures*\n",
        "\n"
      ]
    },
    {
      "metadata": {
        "id": "OKvGelruSLWQ",
        "colab_type": "text"
      },
      "cell_type": "markdown",
      "source": [
        "## Python as a calculator"
      ]
    },
    {
      "metadata": {
        "id": "wMyXCJz7SK8T",
        "colab_type": "code",
        "outputId": "5bc526ba-40de-4c8d-bb65-9b639b394a85",
        "colab": {
          "base_uri": "https://localhost:8080/",
          "height": 102
        }
      },
      "cell_type": "code",
      "source": [
        "2**3 # to power of\n",
        "42/15 # division\n",
        "42/15. # float division\n",
        "42//15. # floor division\n",
        "8%3 # modulo"
      ],
      "execution_count": 0,
      "outputs": [
        {
          "output_type": "stream",
          "text": [
            "8\n",
            "2\n",
            "2.8\n",
            "2.0\n",
            "2\n"
          ],
          "name": "stdout"
        }
      ]
    },
    {
      "metadata": {
        "id": "BmWbp3QCS1SE",
        "colab_type": "text"
      },
      "cell_type": "markdown",
      "source": [
        "## Using Variables"
      ]
    },
    {
      "metadata": {
        "id": "zsuusCztSJcs",
        "colab_type": "code",
        "outputId": "86e3071f-3cd9-4dc7-ba2c-d7f17fb63869",
        "colab": {
          "base_uri": "https://localhost:8080/",
          "height": 85
        }
      },
      "cell_type": "code",
      "source": [
        "width=20\n",
        "height=5\n",
        "print (width*height)\n",
        "print (width==height)\n",
        "width=width+50\n",
        "print (width)\n",
        "height+=10\n",
        "print (height)"
      ],
      "execution_count": 0,
      "outputs": [
        {
          "output_type": "stream",
          "text": [
            "100\n",
            "False\n",
            "70\n",
            "15\n"
          ],
          "name": "stdout"
        }
      ]
    },
    {
      "metadata": {
        "id": "aujMt78iTa4f",
        "colab_type": "text"
      },
      "cell_type": "markdown",
      "source": [
        "### Booleans\n"
      ]
    },
    {
      "metadata": {
        "id": "zoHtazSeTRAT",
        "colab_type": "code",
        "outputId": "2a32fda8-3abb-47de-d31a-f35255e10c2f",
        "colab": {
          "base_uri": "https://localhost:8080/",
          "height": 34
        }
      },
      "cell_type": "code",
      "source": [
        "True & False"
      ],
      "execution_count": 0,
      "outputs": [
        {
          "output_type": "execute_result",
          "data": {
            "text/plain": [
              "False"
            ]
          },
          "metadata": {
            "tags": []
          },
          "execution_count": 9
        }
      ]
    },
    {
      "metadata": {
        "id": "SnfR1x-7TO5H",
        "colab_type": "code",
        "outputId": "5f70f0e6-f752-4bd8-def6-8f121ac8a3d9",
        "colab": {
          "base_uri": "https://localhost:8080/",
          "height": 34
        }
      },
      "cell_type": "code",
      "source": [
        "True | False "
      ],
      "execution_count": 0,
      "outputs": [
        {
          "output_type": "execute_result",
          "data": {
            "text/plain": [
              "True"
            ]
          },
          "metadata": {
            "tags": []
          },
          "execution_count": 8
        }
      ]
    },
    {
      "metadata": {
        "id": "PwAvmt3dTZo_",
        "colab_type": "code",
        "outputId": "6320579f-08e2-45ea-e03a-658151b82667",
        "colab": {
          "base_uri": "https://localhost:8080/",
          "height": 34
        }
      },
      "cell_type": "code",
      "source": [
        "z= True \n",
        "z2 = False \n",
        "z &= z2 \n",
        "print(z)"
      ],
      "execution_count": 0,
      "outputs": [
        {
          "output_type": "stream",
          "text": [
            "False\n"
          ],
          "name": "stdout"
        }
      ]
    },
    {
      "metadata": {
        "id": "3RbBNHPaTnzp",
        "colab_type": "code",
        "outputId": "9cc391cb-dcb4-46d1-c9ee-f7a99c3b95ea",
        "colab": {
          "base_uri": "https://localhost:8080/",
          "height": 34
        }
      },
      "cell_type": "code",
      "source": [
        "verylongvariable = 10\n",
        "verylongvariable -=2\n",
        "verylongvariable"
      ],
      "execution_count": 0,
      "outputs": [
        {
          "output_type": "execute_result",
          "data": {
            "text/plain": [
              "8"
            ]
          },
          "metadata": {
            "tags": []
          },
          "execution_count": 14
        }
      ]
    },
    {
      "metadata": {
        "id": "V8OQS7NfTsUk",
        "colab_type": "text"
      },
      "cell_type": "markdown",
      "source": [
        "## Strings"
      ]
    },
    {
      "metadata": {
        "id": "t6dOf0l0TtTi",
        "colab_type": "code",
        "outputId": "df099d3f-9e10-49fb-e30c-f2edba924bec",
        "colab": {
          "base_uri": "https://localhost:8080/",
          "height": 153
        }
      },
      "cell_type": "code",
      "source": [
        "print ('spam eggs')\n",
        "\n",
        "print ('doesn\\'t') \n",
        "# OR\n",
        "print (\"hadn't\")\n",
        "\n",
        "print (\"\"\"This is a \n",
        "multiline string\"\"\") \n",
        "# OR\n",
        "print (\"First line \\n second line\")\n",
        "\n",
        "print (\"first part, \" + \"second part\")\n",
        "\n",
        "\n"
      ],
      "execution_count": 0,
      "outputs": [
        {
          "output_type": "stream",
          "text": [
            "spam eggs\n",
            "doesn't\n",
            "hadn't\n",
            "This is a \n",
            "multiline string\n",
            "First line \n",
            " second line\n",
            "first part, second part\n"
          ],
          "name": "stdout"
        }
      ]
    },
    {
      "metadata": {
        "id": "o98w_nl3UMCK",
        "colab_type": "code",
        "outputId": "63adab1a-ff1c-4adc-d55c-eb2d6bbaad3e",
        "colab": {
          "base_uri": "https://localhost:8080/",
          "height": 51
        }
      },
      "cell_type": "code",
      "source": [
        "word=\"University\"\n",
        "print (word[0])\n",
        "print (word[-1])\n"
      ],
      "execution_count": 0,
      "outputs": [
        {
          "output_type": "stream",
          "text": [
            "U\n",
            "y\n"
          ],
          "name": "stdout"
        }
      ]
    },
    {
      "metadata": {
        "id": "eGDPzT-5UjNF",
        "colab_type": "text"
      },
      "cell_type": "markdown",
      "source": [
        "## Type casting"
      ]
    },
    {
      "metadata": {
        "id": "aEeW1td2UhSw",
        "colab_type": "code",
        "outputId": "974eb357-d599-4781-826e-5400b68b4b0a",
        "colab": {
          "base_uri": "https://localhost:8080/",
          "height": 51
        }
      },
      "cell_type": "code",
      "source": [
        "#It is often useful to change the type of an object\n",
        "a=2\n",
        "b=3\n",
        "print (a+b)\n",
        "print ('Value of b: ' + str(b))"
      ],
      "execution_count": 0,
      "outputs": [
        {
          "output_type": "stream",
          "text": [
            "5\n",
            "Value of b: 3\n"
          ],
          "name": "stdout"
        }
      ]
    },
    {
      "metadata": {
        "id": "hCQPouf9UxrA",
        "colab_type": "text"
      },
      "cell_type": "markdown",
      "source": [
        "## Lists\n",
        "Lists can be used to group together other items. In python (unlike other languages), lists can contain items of different types."
      ]
    },
    {
      "metadata": {
        "id": "m5qb-VovUz1d",
        "colab_type": "code",
        "outputId": "1966c73b-de4f-4111-b3ba-f98dc1f8db4a",
        "colab": {
          "base_uri": "https://localhost:8080/",
          "height": 119
        }
      },
      "cell_type": "code",
      "source": [
        "squares=[1,4,9,16,25]\n",
        "print (squares[0])\n",
        "print (squares[2:])\n",
        "print (squares[2:4])\n",
        "print (squares[1:-1])\n",
        "print (len(squares))  # The len function returns the length of a list. \n",
        "print ([1,2]+[3,4])"
      ],
      "execution_count": 0,
      "outputs": [
        {
          "output_type": "stream",
          "text": [
            "1\n",
            "[9, 16, 25]\n",
            "[9, 16]\n",
            "[4, 9, 16]\n",
            "5\n",
            "[1, 2, 3, 4]\n"
          ],
          "name": "stdout"
        }
      ]
    },
    {
      "metadata": {
        "id": "YKtAiQqyVCC5",
        "colab_type": "text"
      },
      "cell_type": "markdown",
      "source": [
        "## Data Types\n",
        "**Mutable vs Immutable:** in Python, some objects can be changed without changing their identity(mutable) and others cannot(immutable).\n",
        "\n",
        "Some immutable objects (i.e. objects that can't be modified after creation):\n",
        "*   int\n",
        "*   float\n",
        "*   string\n",
        "*   boolean\n",
        "\n",
        "\n",
        "Some mutable objects:\n",
        "*   list\n",
        "*   dictionary\n",
        "\n",
        "\n",
        "This fact if goes unnoticed can result in some nasty bugs (errors) when defining functions, and therefore is important to understand. \n",
        "\n",
        "NOTE: Mutable objects are great to use when you need to change the size of the object, example list, dict etc.. Immutables are used when you need to ensure that the object you made will always stay the same.\n"
      ]
    },
    {
      "metadata": {
        "id": "ZInASTOPWZvZ",
        "colab_type": "code",
        "outputId": "f5457d53-ae3d-4bd2-9d29-f09b81780e9b",
        "colab": {
          "base_uri": "https://localhost:8080/",
          "height": 85
        }
      },
      "cell_type": "code",
      "source": [
        "# INT is immutable\n",
        "x = 2\n",
        "x = y\n",
        "print(x)\n",
        "print(y)\n",
        "print(id(x))\n",
        "print(id(y))"
      ],
      "execution_count": 0,
      "outputs": [
        {
          "output_type": "stream",
          "text": [
            "2\n",
            "2\n",
            "94048004720416\n",
            "94048004720416\n"
          ],
          "name": "stdout"
        }
      ]
    },
    {
      "metadata": {
        "id": "_GlicVV-Wd4D",
        "colab_type": "text"
      },
      "cell_type": "markdown",
      "source": [
        "id(x) == id(y)\n",
        "\n",
        "id(y) == id(10)"
      ]
    },
    {
      "metadata": {
        "id": "DDAqeOpUWZye",
        "colab_type": "code",
        "outputId": "3833f55b-474f-490b-c877-6885e8dac4a6",
        "colab": {
          "base_uri": "https://localhost:8080/",
          "height": 85
        }
      },
      "cell_type": "code",
      "source": [
        "x = x + 1\n",
        "print(x)\n",
        "print(y)\n",
        "print(id(x))\n",
        "print(id(y))"
      ],
      "execution_count": 0,
      "outputs": [
        {
          "output_type": "stream",
          "text": [
            "3\n",
            "2\n",
            "94048004720392\n",
            "94048004720416\n"
          ],
          "name": "stdout"
        }
      ]
    },
    {
      "metadata": {
        "id": "Qrm7zggaWjFj",
        "colab_type": "text"
      },
      "cell_type": "markdown",
      "source": [
        "id(x) != id(y)\n",
        "\n",
        "id(y) != id(10)"
      ]
    },
    {
      "metadata": {
        "id": "SEztlMkgWoGO",
        "colab_type": "code",
        "outputId": "99d8cfd0-5ffc-41cb-90be-af49168331f3",
        "colab": {
          "base_uri": "https://localhost:8080/",
          "height": 85
        }
      },
      "cell_type": "code",
      "source": [
        "# LIST is mutable\n",
        "m = list([1, 2, 3])\n",
        "n = m\n",
        "print(m)\n",
        "print(n)\n",
        "print(id(m))\n",
        "print(id(n))"
      ],
      "execution_count": 0,
      "outputs": [
        {
          "output_type": "stream",
          "text": [
            "[1, 2, 3]\n",
            "[1, 2, 3]\n",
            "139727692220536\n",
            "139727692220536\n"
          ],
          "name": "stdout"
        }
      ]
    },
    {
      "metadata": {
        "id": "0UuN4ExvWtLz",
        "colab_type": "text"
      },
      "cell_type": "markdown",
      "source": [
        "id(m) == id(n)"
      ]
    },
    {
      "metadata": {
        "id": "3Ov_C9dMWoJV",
        "colab_type": "code",
        "outputId": "e797d4d1-c413-44db-f942-ade3a5812d01",
        "colab": {
          "base_uri": "https://localhost:8080/",
          "height": 85
        }
      },
      "cell_type": "code",
      "source": [
        "m.pop()\n",
        "print(m)\n",
        "print(n)\n",
        "print(id(m))\n",
        "print(id(n))"
      ],
      "execution_count": 0,
      "outputs": [
        {
          "output_type": "stream",
          "text": [
            "[1, 2]\n",
            "[1, 2]\n",
            "139727692220536\n",
            "139727692220536\n"
          ],
          "name": "stdout"
        }
      ]
    },
    {
      "metadata": {
        "id": "dET5qq4vWzTB",
        "colab_type": "text"
      },
      "cell_type": "markdown",
      "source": [
        "id(m) == id(n)"
      ]
    },
    {
      "metadata": {
        "id": "WJDL7J8TXrHO",
        "colab_type": "text"
      },
      "cell_type": "markdown",
      "source": [
        "Notice the following error:"
      ]
    },
    {
      "metadata": {
        "id": "om6rSk11Xquu",
        "colab_type": "code",
        "outputId": "5530cf54-9b60-4afe-bf1c-88fcc875e2a2",
        "colab": {
          "base_uri": "https://localhost:8080/",
          "height": 181
        }
      },
      "cell_type": "code",
      "source": [
        "word = \"university\" \n",
        "word[2]='r' "
      ],
      "execution_count": 0,
      "outputs": [
        {
          "output_type": "error",
          "ename": "TypeError",
          "evalue": "ignored",
          "traceback": [
            "\u001b[0;31m\u001b[0m",
            "\u001b[0;31mTypeError\u001b[0mTraceback (most recent call last)",
            "\u001b[0;32m<ipython-input-57-b18e5c7c2326>\u001b[0m in \u001b[0;36m<module>\u001b[0;34m()\u001b[0m\n\u001b[1;32m      1\u001b[0m \u001b[0mword\u001b[0m \u001b[0;34m=\u001b[0m \u001b[0;34m\"university\"\u001b[0m\u001b[0;34m\u001b[0m\u001b[0m\n\u001b[0;32m----> 2\u001b[0;31m \u001b[0mword\u001b[0m\u001b[0;34m[\u001b[0m\u001b[0;36m2\u001b[0m\u001b[0;34m]\u001b[0m\u001b[0;34m=\u001b[0m\u001b[0;34m'r'\u001b[0m\u001b[0;34m\u001b[0m\u001b[0m\n\u001b[0m",
            "\u001b[0;31mTypeError\u001b[0m: 'str' object does not support item assignment"
          ]
        }
      ]
    },
    {
      "metadata": {
        "id": "BZ2HhnqcVltB",
        "colab_type": "text"
      },
      "cell_type": "markdown",
      "source": [
        "But it works for lists, for example:"
      ]
    },
    {
      "metadata": {
        "id": "jwQRQ1Y6ViND",
        "colab_type": "code",
        "outputId": "e1cdadd1-2a91-42f2-c9d3-3ccf6913335b",
        "colab": {
          "base_uri": "https://localhost:8080/",
          "height": 34
        }
      },
      "cell_type": "code",
      "source": [
        "squares=[1,4,9,16,25]\n",
        "squares[-2]=100\n",
        "print (squares)"
      ],
      "execution_count": 0,
      "outputs": [
        {
          "output_type": "stream",
          "text": [
            "[1, 4, 9, 100, 25]\n"
          ],
          "name": "stdout"
        }
      ]
    },
    {
      "metadata": {
        "id": "JLlVk1oHZiPw",
        "colab_type": "text"
      },
      "cell_type": "markdown",
      "source": [
        "Examples of boolean operations:"
      ]
    },
    {
      "metadata": {
        "id": "jLNfAAgiZj-5",
        "colab_type": "code",
        "outputId": "953683df-1a83-4b54-965f-4abcf2fe95e8",
        "colab": {
          "base_uri": "https://localhost:8080/",
          "height": 34
        }
      },
      "cell_type": "code",
      "source": [
        "x=2\n",
        "y=2\n",
        "print(x is y)"
      ],
      "execution_count": 0,
      "outputs": [
        {
          "output_type": "stream",
          "text": [
            "True\n"
          ],
          "name": "stdout"
        }
      ]
    },
    {
      "metadata": {
        "id": "RwHrg_CjZmJj",
        "colab_type": "code",
        "outputId": "ab7de488-3948-438d-f6c7-4b8ee6d077f8",
        "colab": {
          "base_uri": "https://localhost:8080/",
          "height": 34
        }
      },
      "cell_type": "code",
      "source": [
        "x=2\n",
        "y=5\n",
        "print(x != y)"
      ],
      "execution_count": 0,
      "outputs": [
        {
          "output_type": "stream",
          "text": [
            "True\n"
          ],
          "name": "stdout"
        }
      ]
    },
    {
      "metadata": {
        "id": "t2co-8nlZqr2",
        "colab_type": "code",
        "outputId": "544cd88a-3fc5-46e9-af95-121711e51b4d",
        "colab": {
          "base_uri": "https://localhost:8080/",
          "height": 34
        }
      },
      "cell_type": "code",
      "source": [
        "x=2\n",
        "y=3\n",
        "print(x | y)"
      ],
      "execution_count": 0,
      "outputs": [
        {
          "output_type": "stream",
          "text": [
            "3\n"
          ],
          "name": "stdout"
        }
      ]
    },
    {
      "metadata": {
        "id": "qk0pX31qZtoy",
        "colab_type": "code",
        "outputId": "0c0cd683-6e90-41e1-ab4f-55837ced430a",
        "colab": {
          "base_uri": "https://localhost:8080/",
          "height": 34
        }
      },
      "cell_type": "code",
      "source": [
        "x=2\n",
        "y=3\n",
        "print(x & y)"
      ],
      "execution_count": 0,
      "outputs": [
        {
          "output_type": "stream",
          "text": [
            "2\n"
          ],
          "name": "stdout"
        }
      ]
    },
    {
      "metadata": {
        "id": "IeCWYzqVYLQ9",
        "colab_type": "text"
      },
      "cell_type": "markdown",
      "source": [
        "## Control Flow"
      ]
    },
    {
      "metadata": {
        "id": "gamgF5CeV3b6",
        "colab_type": "code",
        "outputId": "c01fb751-4c00-4057-a420-84d9f7d80d97",
        "colab": {
          "base_uri": "https://localhost:8080/",
          "height": 34
        }
      },
      "cell_type": "code",
      "source": [
        "#Fibonacci series\n",
        "numbers=[1,2]\n",
        "while numbers[-1] + numbers[-2] < 100:\n",
        "    new_num = numbers[-1] + numbers[-2]\n",
        "    numbers = numbers + [new_num]\n",
        "print(numbers)\n"
      ],
      "execution_count": 0,
      "outputs": [
        {
          "output_type": "stream",
          "text": [
            "[1, 2, 3, 5, 8, 13, 21, 34, 55, 89]\n"
          ],
          "name": "stdout"
        }
      ]
    },
    {
      "metadata": {
        "id": "-3RJzGdrV3ea",
        "colab_type": "code",
        "outputId": "8059603d-881f-491d-fb2a-46a76b6a5c1d",
        "colab": {
          "base_uri": "https://localhost:8080/",
          "height": 153
        }
      },
      "cell_type": "code",
      "source": [
        "#Fibonacci series\n",
        "numbers=[1,2]\n",
        "while numbers[-1] + numbers[-2] < 100:\n",
        "    new_num = numbers[-1] + numbers[-2]\n",
        "    numbers = numbers + [new_num]\n",
        "    print(numbers)\n"
      ],
      "execution_count": 0,
      "outputs": [
        {
          "output_type": "stream",
          "text": [
            "[1, 2, 3]\n",
            "[1, 2, 3, 5]\n",
            "[1, 2, 3, 5, 8]\n",
            "[1, 2, 3, 5, 8, 13]\n",
            "[1, 2, 3, 5, 8, 13, 21]\n",
            "[1, 2, 3, 5, 8, 13, 21, 34]\n",
            "[1, 2, 3, 5, 8, 13, 21, 34, 55]\n",
            "[1, 2, 3, 5, 8, 13, 21, 34, 55, 89]\n"
          ],
          "name": "stdout"
        }
      ]
    },
    {
      "metadata": {
        "id": "crhEfkXhYZAg",
        "colab_type": "text"
      },
      "cell_type": "markdown",
      "source": [
        "**Notice:**\n",
        "\n",
        "\n",
        "*   The while loop executes as long as the condition remains true.\n",
        "*   The body of the loop is indented. Indentation is how python groups statements. You can use tab or spaces for indentation, but you have to be consistent with the number of spaces. It is good practice to use exactly 4 spaces(or a tab).\n",
        "\n"
      ]
    },
    {
      "metadata": {
        "id": "zKHCaJ0fYl5X",
        "colab_type": "text"
      },
      "cell_type": "markdown",
      "source": [
        "### If statements"
      ]
    },
    {
      "metadata": {
        "id": "ufeQvRvcV3iY",
        "colab_type": "code",
        "outputId": "66f7b025-75ef-4ea0-b9b7-de679e94ee4a",
        "colab": {
          "base_uri": "https://localhost:8080/",
          "height": 51
        }
      },
      "cell_type": "code",
      "source": [
        "x=int(input(\"Please enter an integer:\"))\n",
        "if x < 0:\n",
        "    print ('Negative, changed to zero')\n",
        "elif  x == 0:\n",
        "    print ('Zero')\n",
        "elif x == 1:\n",
        "    print ('Single')\n",
        "else:\n",
        "    print ('More')  "
      ],
      "execution_count": 0,
      "outputs": [
        {
          "output_type": "stream",
          "text": [
            "Please enter an integer:2\n",
            "More\n"
          ],
          "name": "stdout"
        }
      ]
    },
    {
      "metadata": {
        "id": "5eZl1zQFYsH8",
        "colab_type": "text"
      },
      "cell_type": "markdown",
      "source": [
        "### For loop\n",
        "\n",
        "The for loop iterates over the items of a list (or the characters of a string) in the order that they appear. In other languages, for loops always have the form of\n",
        "\n",
        "     for (i= 1 to 10) --> loop iterator\n",
        "           perform action"
      ]
    },
    {
      "metadata": {
        "id": "d7MaDzn7Yrvh",
        "colab_type": "code",
        "outputId": "117e2abc-24e1-4de3-941d-97c745429ccb",
        "colab": {
          "base_uri": "https://localhost:8080/",
          "height": 68
        }
      },
      "cell_type": "code",
      "source": [
        "#Measure some strings\n",
        "words=['cat','window','university']\n",
        "for w in words:\n",
        "    print (w, len(w))"
      ],
      "execution_count": 0,
      "outputs": [
        {
          "output_type": "stream",
          "text": [
            "('cat', 3)\n",
            "('window', 6)\n",
            "('university', 10)\n"
          ],
          "name": "stdout"
        }
      ]
    },
    {
      "metadata": {
        "id": "zuvqV_tyYryg",
        "colab_type": "code",
        "outputId": "ee229985-4954-4d0f-a32c-04cfdd811b49",
        "colab": {
          "base_uri": "https://localhost:8080/",
          "height": 102
        }
      },
      "cell_type": "code",
      "source": [
        "#If you want to iterate over numbers use the range function\n",
        "a=['Mary','had','a','little','lamb']\n",
        "for i in range(len(a)):\n",
        "    print (i, a[i])"
      ],
      "execution_count": 0,
      "outputs": [
        {
          "output_type": "stream",
          "text": [
            "(0, 'Mary')\n",
            "(1, 'had')\n",
            "(2, 'a')\n",
            "(3, 'little')\n",
            "(4, 'lamb')\n"
          ],
          "name": "stdout"
        }
      ]
    },
    {
      "metadata": {
        "id": "3HJCpj0FYr1L",
        "colab_type": "code",
        "outputId": "c8fccf76-08b4-45d9-a2db-d47c893fcb1c",
        "colab": {
          "base_uri": "https://localhost:8080/",
          "height": 102
        }
      },
      "cell_type": "code",
      "source": [
        "for i in enumerate (['Mary','had','a','little','lamb']):\n",
        "    print(i)"
      ],
      "execution_count": 0,
      "outputs": [
        {
          "output_type": "stream",
          "text": [
            "(0, 'Mary')\n",
            "(1, 'had')\n",
            "(2, 'a')\n",
            "(3, 'little')\n",
            "(4, 'lamb')\n"
          ],
          "name": "stdout"
        }
      ]
    },
    {
      "metadata": {
        "id": "i_FaPu7TZJ94",
        "colab_type": "text"
      },
      "cell_type": "markdown",
      "source": [
        "## Functions"
      ]
    },
    {
      "metadata": {
        "id": "71FP-KuKZLLe",
        "colab_type": "code",
        "outputId": "e09350cf-d71d-4345-d13d-5e97033b64e1",
        "colab": {
          "base_uri": "https://localhost:8080/",
          "height": 51
        }
      },
      "cell_type": "code",
      "source": [
        "def equal(x, y):\n",
        "    if (x==y):\n",
        "        return True        \n",
        "    else: return False         \n",
        "\n",
        "print (equal(2,3))\n",
        "print (equal(2,2))"
      ],
      "execution_count": 0,
      "outputs": [
        {
          "output_type": "stream",
          "text": [
            "False\n",
            "True\n"
          ],
          "name": "stdout"
        }
      ]
    },
    {
      "metadata": {
        "id": "5JMlPhi2Zy_W",
        "colab_type": "text"
      },
      "cell_type": "markdown",
      "source": [
        "# Introduction to Numpy\n",
        "\n",
        "Numpy is the core library for scientific computing in Python. It provides a high-performance multidimensional array object, and tools for working with these arrays. If you are already familiar with MATLAB, you might find this tutorial useful to get started with Numpy. \n",
        "\n",
        "Source found [here](http://cs231n.github.io/python-numpy-tutorial/).\n"
      ]
    },
    {
      "metadata": {
        "id": "_1B4PXrzZ1q9",
        "colab_type": "code",
        "colab": {}
      },
      "cell_type": "code",
      "source": [
        "#importing Numpy library\n",
        "import numpy as np"
      ],
      "execution_count": 0,
      "outputs": []
    },
    {
      "metadata": {
        "id": "LeDeOGaQaBQi",
        "colab_type": "text"
      },
      "cell_type": "markdown",
      "source": [
        "## Arrays\n",
        "A numpy array is a grid of values, all of the same type, and is indexed by a tuple of nonnegative integers. The number of dimensions is the rank of the array; the shape of an array is a tuple of integers giving the size of the array along each dimension.\n",
        "\n",
        "We can initialize numpy arrays from nested Python lists, and access elements using square brackets:"
      ]
    },
    {
      "metadata": {
        "id": "PMe_QkOcaBYp",
        "colab_type": "code",
        "outputId": "1b42ef37-712a-4b67-ccef-5c52e32ac070",
        "colab": {
          "base_uri": "https://localhost:8080/",
          "height": 119
        }
      },
      "cell_type": "code",
      "source": [
        "a = np.array([1, 2, 3])   # Create a rank 1 array\n",
        "\n",
        "print(type(a))            # Prints \"<class 'numpy.ndarray'>\"\n",
        "print(a.shape)            # Prints \"(3,)\"\n",
        "print(a[0], a[1], a[2])   # Prints \"1 2 3\""
      ],
      "execution_count": 0,
      "outputs": [
        {
          "output_type": "stream",
          "text": [
            "<type 'numpy.ndarray'>\n",
            "(3,)\n",
            "(1, 2, 3)\n",
            "[5 2 3]\n",
            "(2, 3)\n",
            "(1, 2, 4)\n"
          ],
          "name": "stdout"
        }
      ]
    },
    {
      "metadata": {
        "id": "enIul2LYaV7H",
        "colab_type": "code",
        "outputId": "e7100b9f-4ce5-4aa9-cc53-2981d128460b",
        "colab": {
          "base_uri": "https://localhost:8080/",
          "height": 34
        }
      },
      "cell_type": "code",
      "source": [
        "a[0] = 5                  # Change an element of the array\n",
        "print(a)                  # Prints \"[5, 2, 3]\"\n"
      ],
      "execution_count": 0,
      "outputs": [
        {
          "output_type": "stream",
          "text": [
            "[5 2 3]\n"
          ],
          "name": "stdout"
        }
      ]
    },
    {
      "metadata": {
        "id": "Sod7zYyDaXA9",
        "colab_type": "code",
        "outputId": "342906a5-14f9-480d-f35f-9f1d7563a167",
        "colab": {
          "base_uri": "https://localhost:8080/",
          "height": 51
        }
      },
      "cell_type": "code",
      "source": [
        "b = np.array([[1,2,3],[4,5,6]])    # Create a rank 2 array\n",
        "print(b.shape)                     # Prints \"(2, 3)\"\n",
        "print(b[0, 0], b[0, 1], b[1, 0])   # Prints \"1 2 4\""
      ],
      "execution_count": 0,
      "outputs": [
        {
          "output_type": "stream",
          "text": [
            "(2, 3)\n",
            "(1, 2, 4)\n"
          ],
          "name": "stdout"
        }
      ]
    },
    {
      "metadata": {
        "id": "OAhsVv2faa1e",
        "colab_type": "text"
      },
      "cell_type": "markdown",
      "source": [
        "Numpy also provides many functions to create arrays:"
      ]
    },
    {
      "metadata": {
        "id": "TA5DW_eIabEg",
        "colab_type": "code",
        "outputId": "e40ba13a-299e-4fe8-aa17-c25f5e8df4c3",
        "colab": {
          "base_uri": "https://localhost:8080/",
          "height": 68
        }
      },
      "cell_type": "code",
      "source": [
        "a = np.zeros((2,2))   # Create an array of all zeros\n",
        "print(a)              # Prints \"[[ 0.  0.]\n",
        "                      #          [ 0.  0.]]\"\n",
        "\n",
        "b = np.ones((1,2))    # Create an array of all ones\n",
        "print(b)              # Prints \"[[ 1.  1.]]\"\n"
      ],
      "execution_count": 0,
      "outputs": [
        {
          "output_type": "stream",
          "text": [
            "[[0. 0.]\n",
            " [0. 0.]]\n",
            "[[1. 1.]]\n"
          ],
          "name": "stdout"
        }
      ]
    },
    {
      "metadata": {
        "id": "qvCy1nI1afls",
        "colab_type": "text"
      },
      "cell_type": "markdown",
      "source": [
        "## Array Indexing\n",
        "\n",
        "Numpy offers several ways to index into arrays.\n",
        "\n",
        "Slicing: Similar to Python lists, numpy arrays can be sliced. Since arrays may be multidimensional, you must specify a slice for each dimension of the array:"
      ]
    },
    {
      "metadata": {
        "id": "OuXISnSPag2x",
        "colab_type": "code",
        "outputId": "425aa3d2-a993-4eb2-d42b-0a8d3093e1a6",
        "colab": {
          "base_uri": "https://localhost:8080/",
          "height": 136
        }
      },
      "cell_type": "code",
      "source": [
        "# Create the following rank 2 array with shape (3, 4)\n",
        "# [[ 1  2  3  4]\n",
        "#  [ 5  6  7  8]\n",
        "#  [ 9 10 11 12]]\n",
        "a = np.array([[1,2,3,4], [5,6,7,8], [9,10,11,12]])\n",
        "print(a, a.shape)\n",
        "\n",
        "# Use slicing to pull out the subarray consisting of the first 2 rows\n",
        "# and columns 1 and 2; b is the following array of shape (2, 2):\n",
        "# [[2 3]\n",
        "#  [6 7]]\n",
        "b = a[:2, 1:3]\n",
        "print(b, b.shape)\n",
        "\n",
        "\n",
        "# A slice of an array is a view into the same data, so modifying it\n",
        "# will modify the original array.\n",
        "print(a[0, 1])   # Prints \"2\"\n",
        "b[0, 0] = 77     # b[0, 0] is the same piece of data as a[0, 1]\n",
        "print(a[0, 1])   # Prints \"77\""
      ],
      "execution_count": 0,
      "outputs": [
        {
          "output_type": "stream",
          "text": [
            "(array([[ 1,  2,  3,  4],\n",
            "       [ 5,  6,  7,  8],\n",
            "       [ 9, 10, 11, 12]]), (3, 4))\n",
            "(array([[2, 3],\n",
            "       [6, 7]]), (2, 2))\n",
            "2\n",
            "77\n"
          ],
          "name": "stdout"
        }
      ]
    },
    {
      "metadata": {
        "id": "xvKpABL_bgFH",
        "colab_type": "text"
      },
      "cell_type": "markdown",
      "source": [
        "One useful trick with integer array indexing is selecting or mutating one element from each row of a matrix:"
      ]
    },
    {
      "metadata": {
        "id": "ArUGL4ecbPOF",
        "colab_type": "code",
        "outputId": "4aba3c56-ca74-4c89-8467-7be195b10cde",
        "colab": {
          "base_uri": "https://localhost:8080/",
          "height": 102
        }
      },
      "cell_type": "code",
      "source": [
        "# Create a new array from which we will select elements\n",
        "a = np.array([[1,2,3], [4,5,6], [7,8,9], [10, 11, 12]])\n",
        "\n",
        "print(a)  # prints \"array([[ 1,  2,  3],\n",
        "          #                [ 4,  5,  6],\n",
        "          #                [ 7,  8,  9],\n",
        "          #                [10, 11, 12]])\"\n",
        "\n",
        "# Create an array of indices\n",
        "b = np.array([0, 2, 0, 1])\n",
        "\n",
        "# Select one element from each row of a using the indices in b\n",
        "print(a[np.arange(4), b])  # Prints \"[ 1  6  7 11]\"\n"
      ],
      "execution_count": 0,
      "outputs": [
        {
          "output_type": "stream",
          "text": [
            "[[ 1  2  3]\n",
            " [ 4  5  6]\n",
            " [ 7  8  9]\n",
            " [10 11 12]]\n",
            "[ 1  6  7 11]\n"
          ],
          "name": "stdout"
        }
      ]
    },
    {
      "metadata": {
        "id": "WCcvGU6Fb8a4",
        "colab_type": "text"
      },
      "cell_type": "markdown",
      "source": [
        "## Array Math"
      ]
    },
    {
      "metadata": {
        "id": "5Rb8mbt9b9fB",
        "colab_type": "code",
        "outputId": "c742e738-11da-44be-9f4e-b27ea206f7e7",
        "colab": {
          "base_uri": "https://localhost:8080/",
          "height": 153
        }
      },
      "cell_type": "code",
      "source": [
        "x = np.array([[1,2],[3,4]], dtype=np.float64)\n",
        "y = np.array([[5,6],[7,8]], dtype=np.float64)\n",
        "\n",
        "# Elementwise sum; both produce the array\n",
        "# [[ 6.0  8.0]\n",
        "#  [10.0 12.0]]\n",
        "print(x + y)\n",
        "# OR\n",
        "print(np.add(x, y))\n",
        "\n",
        "# Elementwise product; both produce the array\n",
        "# [[ 5.0 12.0]\n",
        "#  [21.0 32.0]]\n",
        "print(x * y)\n",
        "# OR\n",
        "print(np.multiply(x, y))\n"
      ],
      "execution_count": 0,
      "outputs": [
        {
          "output_type": "stream",
          "text": [
            "[[ 6.  8.]\n",
            " [10. 12.]]\n",
            "[[ 6.  8.]\n",
            " [10. 12.]]\n",
            "[[ 5. 12.]\n",
            " [21. 32.]]\n",
            "[[ 5. 12.]\n",
            " [21. 32.]]\n"
          ],
          "name": "stdout"
        }
      ]
    },
    {
      "metadata": {
        "id": "lDlhyqJXcKg8",
        "colab_type": "text"
      },
      "cell_type": "markdown",
      "source": [
        "Note:\n",
        "\n",
        "(*) is elementwise multiplication, not matrix multiplication. \n",
        "\n",
        "Instead use the (dot function) to compute inner products of vectors, to multiply a vector by a matrix, and to multiply matrices."
      ]
    },
    {
      "metadata": {
        "id": "HZE93096cKKk",
        "colab_type": "code",
        "outputId": "6912651d-8332-4cac-f2ef-9516f0613ead",
        "colab": {
          "base_uri": "https://localhost:8080/",
          "height": 119
        }
      },
      "cell_type": "code",
      "source": [
        "x = np.array([[1,2],[3,4]])\n",
        "y = np.array([[5,6],[7,8]])\n",
        "\n",
        "print(x*y)\n",
        "\n",
        "print(x.dot(y))\n",
        "# OR\n",
        "print(np.dot(x,y))"
      ],
      "execution_count": 0,
      "outputs": [
        {
          "output_type": "stream",
          "text": [
            "[[ 5 12]\n",
            " [21 32]]\n",
            "[[19 22]\n",
            " [43 50]]\n",
            "[[19 22]\n",
            " [43 50]]\n"
          ],
          "name": "stdout"
        }
      ]
    },
    {
      "metadata": {
        "id": "IYS0BUescgRB",
        "colab_type": "text"
      },
      "cell_type": "markdown",
      "source": [
        "## Changing Array Dimensions"
      ]
    },
    {
      "metadata": {
        "id": "vJiH0khccgW-",
        "colab_type": "code",
        "outputId": "c2637597-04e9-4c3f-c393-23676dc1966c",
        "colab": {
          "base_uri": "https://localhost:8080/",
          "height": 85
        }
      },
      "cell_type": "code",
      "source": [
        "#creating an array a\n",
        "a = np.arange(6)\n",
        "b = a.reshape((3, 2))\n",
        "print('Before reshaping: ', a)\n",
        "print('After reshaping: ', b)"
      ],
      "execution_count": 0,
      "outputs": [
        {
          "output_type": "stream",
          "text": [
            "('Before reshaping: ', array([0, 1, 2, 3, 4, 5]))\n",
            "('After reshaping: ', array([[0, 1],\n",
            "       [2, 3],\n",
            "       [4, 5]]))\n"
          ],
          "name": "stdout"
        }
      ]
    },
    {
      "metadata": {
        "id": "NszJRCRgczYG",
        "colab_type": "text"
      },
      "cell_type": "markdown",
      "source": [
        "# Introduction to Pandas\n",
        "\n",
        "Pandas stands for “Python Data Analysis Library”.Pandas is quite a game changer when it comes to analyzing data with Python and it is one of the most preferred and widely used tools in data munging/wrangling if not THE most used one. Pandas is an open source, free to use (under a BSD license). \n",
        "\n",
        "Source can be found [here](https://towardsdatascience.com/a-quick-introduction-to-the-pandas-python-library-f1b678f34673, https://pandas.pydata.org/pandas-docs/stable/getting_started/10min.html) "
      ]
    },
    {
      "metadata": {
        "id": "E17eVnP2czEE",
        "colab_type": "code",
        "colab": {}
      },
      "cell_type": "code",
      "source": [
        "#importing Pandas library\n",
        "import pandas as pd\n"
      ],
      "execution_count": 0,
      "outputs": []
    },
    {
      "metadata": {
        "id": "5MTSKzU0c-rq",
        "colab_type": "text"
      },
      "cell_type": "markdown",
      "source": [
        "## Object Creation\n",
        "\n",
        "Series is a one-dimensional labeled array capable of holding data of any type (integer, string, float, python objects, etc.) \n",
        "\n",
        "Creating a Series by passing a list of values, letting pandas create a default integer index:"
      ]
    },
    {
      "metadata": {
        "id": "IFEgG5owc-yq",
        "colab_type": "code",
        "outputId": "e54657ae-869d-4d7f-f7f8-04527db4e2df",
        "colab": {
          "base_uri": "https://localhost:8080/",
          "height": 136
        }
      },
      "cell_type": "code",
      "source": [
        "s = pd.Series([1, 3, 5, np.nan, 6, 8])\n",
        "s"
      ],
      "execution_count": 0,
      "outputs": [
        {
          "output_type": "execute_result",
          "data": {
            "text/plain": [
              "0    1.0\n",
              "1    3.0\n",
              "2    5.0\n",
              "3    NaN\n",
              "4    6.0\n",
              "5    8.0\n",
              "dtype: float64"
            ]
          },
          "metadata": {
            "tags": []
          },
          "execution_count": 95
        }
      ]
    },
    {
      "metadata": {
        "id": "EVLqbbpJdNEP",
        "colab_type": "text"
      },
      "cell_type": "markdown",
      "source": [
        "DataFrame is a 2-dimensional labeled data structure with columns of potentially different types. You can think of it like a spreadsheet or SQL table, or a dict of Series objects.\n",
        "\n",
        "Creating a DataFrame by passing a NumPy array, with a datetime index and labeled columns:\n"
      ]
    },
    {
      "metadata": {
        "id": "nrhGBGeYdNXI",
        "colab_type": "code",
        "outputId": "f8cab3f1-e980-481f-b9ee-0c2c4ac00170",
        "colab": {
          "base_uri": "https://localhost:8080/",
          "height": 68
        }
      },
      "cell_type": "code",
      "source": [
        "dates = pd.date_range('20130101', periods=6)\n",
        "dates"
      ],
      "execution_count": 0,
      "outputs": [
        {
          "output_type": "execute_result",
          "data": {
            "text/plain": [
              "DatetimeIndex(['2013-01-01', '2013-01-02', '2013-01-03', '2013-01-04',\n",
              "               '2013-01-05', '2013-01-06'],\n",
              "              dtype='datetime64[ns]', freq='D')"
            ]
          },
          "metadata": {
            "tags": []
          },
          "execution_count": 96
        }
      ]
    },
    {
      "metadata": {
        "id": "F_9k86OydZCm",
        "colab_type": "code",
        "outputId": "1648a3a5-ceda-4054-e5b5-3cd638554773",
        "colab": {
          "base_uri": "https://localhost:8080/",
          "height": 235
        }
      },
      "cell_type": "code",
      "source": [
        "df = pd.DataFrame(np.random.randn(6, 4), index=dates, columns=list('ABCD'))\n",
        "df"
      ],
      "execution_count": 0,
      "outputs": [
        {
          "output_type": "execute_result",
          "data": {
            "text/html": [
              "<div>\n",
              "<style scoped>\n",
              "    .dataframe tbody tr th:only-of-type {\n",
              "        vertical-align: middle;\n",
              "    }\n",
              "\n",
              "    .dataframe tbody tr th {\n",
              "        vertical-align: top;\n",
              "    }\n",
              "\n",
              "    .dataframe thead th {\n",
              "        text-align: right;\n",
              "    }\n",
              "</style>\n",
              "<table border=\"1\" class=\"dataframe\">\n",
              "  <thead>\n",
              "    <tr style=\"text-align: right;\">\n",
              "      <th></th>\n",
              "      <th>A</th>\n",
              "      <th>B</th>\n",
              "      <th>C</th>\n",
              "      <th>D</th>\n",
              "    </tr>\n",
              "  </thead>\n",
              "  <tbody>\n",
              "    <tr>\n",
              "      <th>2013-01-01</th>\n",
              "      <td>-0.496258</td>\n",
              "      <td>-0.730723</td>\n",
              "      <td>-1.245745</td>\n",
              "      <td>0.545074</td>\n",
              "    </tr>\n",
              "    <tr>\n",
              "      <th>2013-01-02</th>\n",
              "      <td>2.339862</td>\n",
              "      <td>0.706279</td>\n",
              "      <td>0.810967</td>\n",
              "      <td>-1.138736</td>\n",
              "    </tr>\n",
              "    <tr>\n",
              "      <th>2013-01-03</th>\n",
              "      <td>0.384474</td>\n",
              "      <td>0.759304</td>\n",
              "      <td>-1.669582</td>\n",
              "      <td>0.100087</td>\n",
              "    </tr>\n",
              "    <tr>\n",
              "      <th>2013-01-04</th>\n",
              "      <td>-1.274437</td>\n",
              "      <td>0.118514</td>\n",
              "      <td>0.433957</td>\n",
              "      <td>-0.470793</td>\n",
              "    </tr>\n",
              "    <tr>\n",
              "      <th>2013-01-05</th>\n",
              "      <td>1.008659</td>\n",
              "      <td>0.357255</td>\n",
              "      <td>1.040918</td>\n",
              "      <td>0.926418</td>\n",
              "    </tr>\n",
              "    <tr>\n",
              "      <th>2013-01-06</th>\n",
              "      <td>-1.249155</td>\n",
              "      <td>1.257724</td>\n",
              "      <td>-1.774290</td>\n",
              "      <td>-0.371438</td>\n",
              "    </tr>\n",
              "  </tbody>\n",
              "</table>\n",
              "</div>"
            ],
            "text/plain": [
              "                   A         B         C         D\n",
              "2013-01-01 -0.496258 -0.730723 -1.245745  0.545074\n",
              "2013-01-02  2.339862  0.706279  0.810967 -1.138736\n",
              "2013-01-03  0.384474  0.759304 -1.669582  0.100087\n",
              "2013-01-04 -1.274437  0.118514  0.433957 -0.470793\n",
              "2013-01-05  1.008659  0.357255  1.040918  0.926418\n",
              "2013-01-06 -1.249155  1.257724 -1.774290 -0.371438"
            ]
          },
          "metadata": {
            "tags": []
          },
          "execution_count": 97
        }
      ]
    },
    {
      "metadata": {
        "id": "mwekoSb6dcRv",
        "colab_type": "text"
      },
      "cell_type": "markdown",
      "source": [
        "Creating a DataFrame by passing a dict of objects that can be converted to series-like."
      ]
    },
    {
      "metadata": {
        "id": "zIPuP0YkdctI",
        "colab_type": "code",
        "outputId": "24a5c69f-1dcd-470a-82f5-caa47d82fef6",
        "colab": {
          "base_uri": "https://localhost:8080/",
          "height": 173
        }
      },
      "cell_type": "code",
      "source": [
        "df2 = pd.DataFrame({'A': 1.,\n",
        "                    'B': pd.Timestamp('20130102'),\n",
        "                    'C': pd.Series(1, index=list(range(4)), dtype='float32'),\n",
        "                    'D': np.array([3] * 4, dtype='int32'),\n",
        "                    'E': pd.Categorical([\"test\", \"train\", \"test\", \"train\"]),\n",
        "                    'F': 'foo'})\n",
        "df2"
      ],
      "execution_count": 0,
      "outputs": [
        {
          "output_type": "execute_result",
          "data": {
            "text/html": [
              "<div>\n",
              "<style scoped>\n",
              "    .dataframe tbody tr th:only-of-type {\n",
              "        vertical-align: middle;\n",
              "    }\n",
              "\n",
              "    .dataframe tbody tr th {\n",
              "        vertical-align: top;\n",
              "    }\n",
              "\n",
              "    .dataframe thead th {\n",
              "        text-align: right;\n",
              "    }\n",
              "</style>\n",
              "<table border=\"1\" class=\"dataframe\">\n",
              "  <thead>\n",
              "    <tr style=\"text-align: right;\">\n",
              "      <th></th>\n",
              "      <th>A</th>\n",
              "      <th>B</th>\n",
              "      <th>C</th>\n",
              "      <th>D</th>\n",
              "      <th>E</th>\n",
              "      <th>F</th>\n",
              "    </tr>\n",
              "  </thead>\n",
              "  <tbody>\n",
              "    <tr>\n",
              "      <th>0</th>\n",
              "      <td>1.0</td>\n",
              "      <td>2013-01-02</td>\n",
              "      <td>1.0</td>\n",
              "      <td>3</td>\n",
              "      <td>test</td>\n",
              "      <td>foo</td>\n",
              "    </tr>\n",
              "    <tr>\n",
              "      <th>1</th>\n",
              "      <td>1.0</td>\n",
              "      <td>2013-01-02</td>\n",
              "      <td>1.0</td>\n",
              "      <td>3</td>\n",
              "      <td>train</td>\n",
              "      <td>foo</td>\n",
              "    </tr>\n",
              "    <tr>\n",
              "      <th>2</th>\n",
              "      <td>1.0</td>\n",
              "      <td>2013-01-02</td>\n",
              "      <td>1.0</td>\n",
              "      <td>3</td>\n",
              "      <td>test</td>\n",
              "      <td>foo</td>\n",
              "    </tr>\n",
              "    <tr>\n",
              "      <th>3</th>\n",
              "      <td>1.0</td>\n",
              "      <td>2013-01-02</td>\n",
              "      <td>1.0</td>\n",
              "      <td>3</td>\n",
              "      <td>train</td>\n",
              "      <td>foo</td>\n",
              "    </tr>\n",
              "  </tbody>\n",
              "</table>\n",
              "</div>"
            ],
            "text/plain": [
              "     A          B    C  D      E    F\n",
              "0  1.0 2013-01-02  1.0  3   test  foo\n",
              "1  1.0 2013-01-02  1.0  3  train  foo\n",
              "2  1.0 2013-01-02  1.0  3   test  foo\n",
              "3  1.0 2013-01-02  1.0  3  train  foo"
            ]
          },
          "metadata": {
            "tags": []
          },
          "execution_count": 98
        }
      ]
    },
    {
      "metadata": {
        "id": "HbMN6iwydg5l",
        "colab_type": "text"
      },
      "cell_type": "markdown",
      "source": [
        "Notice the columns of the resulting DataFrame have different dtypes."
      ]
    },
    {
      "metadata": {
        "id": "Gz40KnZDdg_Y",
        "colab_type": "code",
        "outputId": "92513d55-c491-44af-88ad-b0ba76a38337",
        "colab": {
          "base_uri": "https://localhost:8080/",
          "height": 136
        }
      },
      "cell_type": "code",
      "source": [
        "df2.dtypes"
      ],
      "execution_count": 0,
      "outputs": [
        {
          "output_type": "execute_result",
          "data": {
            "text/plain": [
              "A           float64\n",
              "B    datetime64[ns]\n",
              "C           float32\n",
              "D             int32\n",
              "E          category\n",
              "F            object\n",
              "dtype: object"
            ]
          },
          "metadata": {
            "tags": []
          },
          "execution_count": 99
        }
      ]
    },
    {
      "metadata": {
        "id": "ZVFiRdnDdmRs",
        "colab_type": "text"
      },
      "cell_type": "markdown",
      "source": [
        "## Viewing Data\n",
        "\n",
        "Here is how to view the top and bottom rows of the frame:"
      ]
    },
    {
      "metadata": {
        "id": "udtbjHF2doYG",
        "colab_type": "code",
        "outputId": "a34567b9-e3be-4c86-82c4-b13890fab0bd",
        "colab": {
          "base_uri": "https://localhost:8080/",
          "height": 204
        }
      },
      "cell_type": "code",
      "source": [
        "df.head() #view first 5 rows of datafarme"
      ],
      "execution_count": 0,
      "outputs": [
        {
          "output_type": "execute_result",
          "data": {
            "text/html": [
              "<div>\n",
              "<style scoped>\n",
              "    .dataframe tbody tr th:only-of-type {\n",
              "        vertical-align: middle;\n",
              "    }\n",
              "\n",
              "    .dataframe tbody tr th {\n",
              "        vertical-align: top;\n",
              "    }\n",
              "\n",
              "    .dataframe thead th {\n",
              "        text-align: right;\n",
              "    }\n",
              "</style>\n",
              "<table border=\"1\" class=\"dataframe\">\n",
              "  <thead>\n",
              "    <tr style=\"text-align: right;\">\n",
              "      <th></th>\n",
              "      <th>A</th>\n",
              "      <th>B</th>\n",
              "      <th>C</th>\n",
              "      <th>D</th>\n",
              "    </tr>\n",
              "  </thead>\n",
              "  <tbody>\n",
              "    <tr>\n",
              "      <th>2013-01-01</th>\n",
              "      <td>-0.496258</td>\n",
              "      <td>-0.730723</td>\n",
              "      <td>-1.245745</td>\n",
              "      <td>0.545074</td>\n",
              "    </tr>\n",
              "    <tr>\n",
              "      <th>2013-01-02</th>\n",
              "      <td>2.339862</td>\n",
              "      <td>0.706279</td>\n",
              "      <td>0.810967</td>\n",
              "      <td>-1.138736</td>\n",
              "    </tr>\n",
              "    <tr>\n",
              "      <th>2013-01-03</th>\n",
              "      <td>0.384474</td>\n",
              "      <td>0.759304</td>\n",
              "      <td>-1.669582</td>\n",
              "      <td>0.100087</td>\n",
              "    </tr>\n",
              "    <tr>\n",
              "      <th>2013-01-04</th>\n",
              "      <td>-1.274437</td>\n",
              "      <td>0.118514</td>\n",
              "      <td>0.433957</td>\n",
              "      <td>-0.470793</td>\n",
              "    </tr>\n",
              "    <tr>\n",
              "      <th>2013-01-05</th>\n",
              "      <td>1.008659</td>\n",
              "      <td>0.357255</td>\n",
              "      <td>1.040918</td>\n",
              "      <td>0.926418</td>\n",
              "    </tr>\n",
              "  </tbody>\n",
              "</table>\n",
              "</div>"
            ],
            "text/plain": [
              "                   A         B         C         D\n",
              "2013-01-01 -0.496258 -0.730723 -1.245745  0.545074\n",
              "2013-01-02  2.339862  0.706279  0.810967 -1.138736\n",
              "2013-01-03  0.384474  0.759304 -1.669582  0.100087\n",
              "2013-01-04 -1.274437  0.118514  0.433957 -0.470793\n",
              "2013-01-05  1.008659  0.357255  1.040918  0.926418"
            ]
          },
          "metadata": {
            "tags": []
          },
          "execution_count": 100
        }
      ]
    },
    {
      "metadata": {
        "id": "O1cAe10udp5L",
        "colab_type": "code",
        "outputId": "53f29332-9d20-4e96-cd60-4a082fdad1da",
        "colab": {
          "base_uri": "https://localhost:8080/",
          "height": 142
        }
      },
      "cell_type": "code",
      "source": [
        "df.head(3) #view first 3 rows of datafarme"
      ],
      "execution_count": 0,
      "outputs": [
        {
          "output_type": "execute_result",
          "data": {
            "text/html": [
              "<div>\n",
              "<style scoped>\n",
              "    .dataframe tbody tr th:only-of-type {\n",
              "        vertical-align: middle;\n",
              "    }\n",
              "\n",
              "    .dataframe tbody tr th {\n",
              "        vertical-align: top;\n",
              "    }\n",
              "\n",
              "    .dataframe thead th {\n",
              "        text-align: right;\n",
              "    }\n",
              "</style>\n",
              "<table border=\"1\" class=\"dataframe\">\n",
              "  <thead>\n",
              "    <tr style=\"text-align: right;\">\n",
              "      <th></th>\n",
              "      <th>A</th>\n",
              "      <th>B</th>\n",
              "      <th>C</th>\n",
              "      <th>D</th>\n",
              "    </tr>\n",
              "  </thead>\n",
              "  <tbody>\n",
              "    <tr>\n",
              "      <th>2013-01-01</th>\n",
              "      <td>-0.496258</td>\n",
              "      <td>-0.730723</td>\n",
              "      <td>-1.245745</td>\n",
              "      <td>0.545074</td>\n",
              "    </tr>\n",
              "    <tr>\n",
              "      <th>2013-01-02</th>\n",
              "      <td>2.339862</td>\n",
              "      <td>0.706279</td>\n",
              "      <td>0.810967</td>\n",
              "      <td>-1.138736</td>\n",
              "    </tr>\n",
              "    <tr>\n",
              "      <th>2013-01-03</th>\n",
              "      <td>0.384474</td>\n",
              "      <td>0.759304</td>\n",
              "      <td>-1.669582</td>\n",
              "      <td>0.100087</td>\n",
              "    </tr>\n",
              "  </tbody>\n",
              "</table>\n",
              "</div>"
            ],
            "text/plain": [
              "                   A         B         C         D\n",
              "2013-01-01 -0.496258 -0.730723 -1.245745  0.545074\n",
              "2013-01-02  2.339862  0.706279  0.810967 -1.138736\n",
              "2013-01-03  0.384474  0.759304 -1.669582  0.100087"
            ]
          },
          "metadata": {
            "tags": []
          },
          "execution_count": 102
        }
      ]
    },
    {
      "metadata": {
        "id": "tl8pCrpLdvp0",
        "colab_type": "code",
        "outputId": "c4b5c94e-41a2-4552-9fb1-ba318962705c",
        "colab": {
          "base_uri": "https://localhost:8080/",
          "height": 111
        }
      },
      "cell_type": "code",
      "source": [
        "df.tail(2) #view last 2 rows"
      ],
      "execution_count": 0,
      "outputs": [
        {
          "output_type": "execute_result",
          "data": {
            "text/html": [
              "<div>\n",
              "<style scoped>\n",
              "    .dataframe tbody tr th:only-of-type {\n",
              "        vertical-align: middle;\n",
              "    }\n",
              "\n",
              "    .dataframe tbody tr th {\n",
              "        vertical-align: top;\n",
              "    }\n",
              "\n",
              "    .dataframe thead th {\n",
              "        text-align: right;\n",
              "    }\n",
              "</style>\n",
              "<table border=\"1\" class=\"dataframe\">\n",
              "  <thead>\n",
              "    <tr style=\"text-align: right;\">\n",
              "      <th></th>\n",
              "      <th>A</th>\n",
              "      <th>B</th>\n",
              "      <th>C</th>\n",
              "      <th>D</th>\n",
              "    </tr>\n",
              "  </thead>\n",
              "  <tbody>\n",
              "    <tr>\n",
              "      <th>2013-01-05</th>\n",
              "      <td>1.008659</td>\n",
              "      <td>0.357255</td>\n",
              "      <td>1.040918</td>\n",
              "      <td>0.926418</td>\n",
              "    </tr>\n",
              "    <tr>\n",
              "      <th>2013-01-06</th>\n",
              "      <td>-1.249155</td>\n",
              "      <td>1.257724</td>\n",
              "      <td>-1.774290</td>\n",
              "      <td>-0.371438</td>\n",
              "    </tr>\n",
              "  </tbody>\n",
              "</table>\n",
              "</div>"
            ],
            "text/plain": [
              "                   A         B         C         D\n",
              "2013-01-05  1.008659  0.357255  1.040918  0.926418\n",
              "2013-01-06 -1.249155  1.257724 -1.774290 -0.371438"
            ]
          },
          "metadata": {
            "tags": []
          },
          "execution_count": 103
        }
      ]
    },
    {
      "metadata": {
        "id": "pae9pCXXd0cE",
        "colab_type": "text"
      },
      "cell_type": "markdown",
      "source": [
        "Display the index:"
      ]
    },
    {
      "metadata": {
        "id": "WPCwbu7Qd0hv",
        "colab_type": "code",
        "outputId": "47f85c51-7567-4513-b076-aaf4eb4719f9",
        "colab": {
          "base_uri": "https://localhost:8080/",
          "height": 68
        }
      },
      "cell_type": "code",
      "source": [
        "df.index"
      ],
      "execution_count": 0,
      "outputs": [
        {
          "output_type": "execute_result",
          "data": {
            "text/plain": [
              "DatetimeIndex(['2013-01-01', '2013-01-02', '2013-01-03', '2013-01-04',\n",
              "               '2013-01-05', '2013-01-06'],\n",
              "              dtype='datetime64[ns]', freq='D')"
            ]
          },
          "metadata": {
            "tags": []
          },
          "execution_count": 104
        }
      ]
    },
    {
      "metadata": {
        "id": "Yl5VTco-d4bF",
        "colab_type": "code",
        "outputId": "fffa74e5-9a82-4a19-b39b-a45c102e598b",
        "colab": {
          "base_uri": "https://localhost:8080/",
          "height": 34
        }
      },
      "cell_type": "code",
      "source": [
        "df.columns"
      ],
      "execution_count": 0,
      "outputs": [
        {
          "output_type": "execute_result",
          "data": {
            "text/plain": [
              "Index([u'A', u'B', u'C', u'D'], dtype='object')"
            ]
          },
          "metadata": {
            "tags": []
          },
          "execution_count": 105
        }
      ]
    },
    {
      "metadata": {
        "id": "NWFj_Ym0d6D2",
        "colab_type": "text"
      },
      "cell_type": "markdown",
      "source": [
        "describe() shows a quick statistic summary of your data:"
      ]
    },
    {
      "metadata": {
        "id": "Cu9jWeB_d6JW",
        "colab_type": "code",
        "outputId": "0f3981bb-6602-4e57-ff49-0df4e12f37f3",
        "colab": {
          "base_uri": "https://localhost:8080/",
          "height": 297
        }
      },
      "cell_type": "code",
      "source": [
        "df.describe()"
      ],
      "execution_count": 0,
      "outputs": [
        {
          "output_type": "execute_result",
          "data": {
            "text/html": [
              "<div>\n",
              "<style scoped>\n",
              "    .dataframe tbody tr th:only-of-type {\n",
              "        vertical-align: middle;\n",
              "    }\n",
              "\n",
              "    .dataframe tbody tr th {\n",
              "        vertical-align: top;\n",
              "    }\n",
              "\n",
              "    .dataframe thead th {\n",
              "        text-align: right;\n",
              "    }\n",
              "</style>\n",
              "<table border=\"1\" class=\"dataframe\">\n",
              "  <thead>\n",
              "    <tr style=\"text-align: right;\">\n",
              "      <th></th>\n",
              "      <th>A</th>\n",
              "      <th>B</th>\n",
              "      <th>C</th>\n",
              "      <th>D</th>\n",
              "    </tr>\n",
              "  </thead>\n",
              "  <tbody>\n",
              "    <tr>\n",
              "      <th>count</th>\n",
              "      <td>6.000000</td>\n",
              "      <td>6.000000</td>\n",
              "      <td>6.000000</td>\n",
              "      <td>6.000000</td>\n",
              "    </tr>\n",
              "    <tr>\n",
              "      <th>mean</th>\n",
              "      <td>0.118858</td>\n",
              "      <td>0.411392</td>\n",
              "      <td>-0.400629</td>\n",
              "      <td>-0.068232</td>\n",
              "    </tr>\n",
              "    <tr>\n",
              "      <th>std</th>\n",
              "      <td>1.413241</td>\n",
              "      <td>0.680796</td>\n",
              "      <td>1.300305</td>\n",
              "      <td>0.747499</td>\n",
              "    </tr>\n",
              "    <tr>\n",
              "      <th>min</th>\n",
              "      <td>-1.274437</td>\n",
              "      <td>-0.730723</td>\n",
              "      <td>-1.774290</td>\n",
              "      <td>-1.138736</td>\n",
              "    </tr>\n",
              "    <tr>\n",
              "      <th>25%</th>\n",
              "      <td>-1.060930</td>\n",
              "      <td>0.178199</td>\n",
              "      <td>-1.563623</td>\n",
              "      <td>-0.445955</td>\n",
              "    </tr>\n",
              "    <tr>\n",
              "      <th>50%</th>\n",
              "      <td>-0.055892</td>\n",
              "      <td>0.531767</td>\n",
              "      <td>-0.405894</td>\n",
              "      <td>-0.135676</td>\n",
              "    </tr>\n",
              "    <tr>\n",
              "      <th>75%</th>\n",
              "      <td>0.852613</td>\n",
              "      <td>0.746048</td>\n",
              "      <td>0.716714</td>\n",
              "      <td>0.433827</td>\n",
              "    </tr>\n",
              "    <tr>\n",
              "      <th>max</th>\n",
              "      <td>2.339862</td>\n",
              "      <td>1.257724</td>\n",
              "      <td>1.040918</td>\n",
              "      <td>0.926418</td>\n",
              "    </tr>\n",
              "  </tbody>\n",
              "</table>\n",
              "</div>"
            ],
            "text/plain": [
              "              A         B         C         D\n",
              "count  6.000000  6.000000  6.000000  6.000000\n",
              "mean   0.118858  0.411392 -0.400629 -0.068232\n",
              "std    1.413241  0.680796  1.300305  0.747499\n",
              "min   -1.274437 -0.730723 -1.774290 -1.138736\n",
              "25%   -1.060930  0.178199 -1.563623 -0.445955\n",
              "50%   -0.055892  0.531767 -0.405894 -0.135676\n",
              "75%    0.852613  0.746048  0.716714  0.433827\n",
              "max    2.339862  1.257724  1.040918  0.926418"
            ]
          },
          "metadata": {
            "tags": []
          },
          "execution_count": 106
        }
      ]
    },
    {
      "metadata": {
        "id": "0HacZAvveZ2Z",
        "colab_type": "text"
      },
      "cell_type": "markdown",
      "source": [
        "Sorting by values:"
      ]
    },
    {
      "metadata": {
        "id": "M6bkf9-VeZ7v",
        "colab_type": "code",
        "outputId": "832a55a9-14b4-4fac-e28b-6360ac63c565",
        "colab": {
          "base_uri": "https://localhost:8080/",
          "height": 235
        }
      },
      "cell_type": "code",
      "source": [
        "df.sort_values(by='A') # updates not stored in dataframe"
      ],
      "execution_count": 0,
      "outputs": [
        {
          "output_type": "execute_result",
          "data": {
            "text/html": [
              "<div>\n",
              "<style scoped>\n",
              "    .dataframe tbody tr th:only-of-type {\n",
              "        vertical-align: middle;\n",
              "    }\n",
              "\n",
              "    .dataframe tbody tr th {\n",
              "        vertical-align: top;\n",
              "    }\n",
              "\n",
              "    .dataframe thead th {\n",
              "        text-align: right;\n",
              "    }\n",
              "</style>\n",
              "<table border=\"1\" class=\"dataframe\">\n",
              "  <thead>\n",
              "    <tr style=\"text-align: right;\">\n",
              "      <th></th>\n",
              "      <th>A</th>\n",
              "      <th>B</th>\n",
              "      <th>C</th>\n",
              "      <th>D</th>\n",
              "    </tr>\n",
              "  </thead>\n",
              "  <tbody>\n",
              "    <tr>\n",
              "      <th>2013-01-04</th>\n",
              "      <td>-1.274437</td>\n",
              "      <td>0.118514</td>\n",
              "      <td>0.433957</td>\n",
              "      <td>-0.470793</td>\n",
              "    </tr>\n",
              "    <tr>\n",
              "      <th>2013-01-06</th>\n",
              "      <td>-1.249155</td>\n",
              "      <td>1.257724</td>\n",
              "      <td>-1.774290</td>\n",
              "      <td>-0.371438</td>\n",
              "    </tr>\n",
              "    <tr>\n",
              "      <th>2013-01-01</th>\n",
              "      <td>-0.496258</td>\n",
              "      <td>-0.730723</td>\n",
              "      <td>-1.245745</td>\n",
              "      <td>0.545074</td>\n",
              "    </tr>\n",
              "    <tr>\n",
              "      <th>2013-01-03</th>\n",
              "      <td>0.384474</td>\n",
              "      <td>0.759304</td>\n",
              "      <td>-1.669582</td>\n",
              "      <td>0.100087</td>\n",
              "    </tr>\n",
              "    <tr>\n",
              "      <th>2013-01-05</th>\n",
              "      <td>1.008659</td>\n",
              "      <td>0.357255</td>\n",
              "      <td>1.040918</td>\n",
              "      <td>0.926418</td>\n",
              "    </tr>\n",
              "    <tr>\n",
              "      <th>2013-01-02</th>\n",
              "      <td>2.339862</td>\n",
              "      <td>0.706279</td>\n",
              "      <td>0.810967</td>\n",
              "      <td>-1.138736</td>\n",
              "    </tr>\n",
              "  </tbody>\n",
              "</table>\n",
              "</div>"
            ],
            "text/plain": [
              "                   A         B         C         D\n",
              "2013-01-04 -1.274437  0.118514  0.433957 -0.470793\n",
              "2013-01-06 -1.249155  1.257724 -1.774290 -0.371438\n",
              "2013-01-01 -0.496258 -0.730723 -1.245745  0.545074\n",
              "2013-01-03  0.384474  0.759304 -1.669582  0.100087\n",
              "2013-01-05  1.008659  0.357255  1.040918  0.926418\n",
              "2013-01-02  2.339862  0.706279  0.810967 -1.138736"
            ]
          },
          "metadata": {
            "tags": []
          },
          "execution_count": 113
        }
      ]
    },
    {
      "metadata": {
        "id": "lHLOHV31esNo",
        "colab_type": "text"
      },
      "cell_type": "markdown",
      "source": [
        "Notice the following:"
      ]
    },
    {
      "metadata": {
        "id": "ylfjp_JpetAZ",
        "colab_type": "code",
        "outputId": "94941d2b-0553-461b-dfc5-beed1a455851",
        "colab": {
          "base_uri": "https://localhost:8080/",
          "height": 255
        }
      },
      "cell_type": "code",
      "source": [
        "print(df)\n",
        "df = df.sort_values(by='A') # should assign changes to dataframe\n",
        "print(df)"
      ],
      "execution_count": 0,
      "outputs": [
        {
          "output_type": "stream",
          "text": [
            "                   A         B         C         D\n",
            "2013-01-01 -0.496258 -0.730723 -1.245745  0.545074\n",
            "2013-01-02  2.339862  0.706279  0.810967 -1.138736\n",
            "2013-01-03  0.384474  0.759304 -1.669582  0.100087\n",
            "2013-01-04 -1.274437  0.118514  0.433957 -0.470793\n",
            "2013-01-05  1.008659  0.357255  1.040918  0.926418\n",
            "2013-01-06 -1.249155  1.257724 -1.774290 -0.371438\n",
            "                   A         B         C         D\n",
            "2013-01-04 -1.274437  0.118514  0.433957 -0.470793\n",
            "2013-01-06 -1.249155  1.257724 -1.774290 -0.371438\n",
            "2013-01-01 -0.496258 -0.730723 -1.245745  0.545074\n",
            "2013-01-03  0.384474  0.759304 -1.669582  0.100087\n",
            "2013-01-05  1.008659  0.357255  1.040918  0.926418\n",
            "2013-01-02  2.339862  0.706279  0.810967 -1.138736\n"
          ],
          "name": "stdout"
        }
      ]
    },
    {
      "metadata": {
        "id": "8rsWMeNFednn",
        "colab_type": "text"
      },
      "cell_type": "markdown",
      "source": [
        "## Selection"
      ]
    },
    {
      "metadata": {
        "id": "QA8RqUKzei-6",
        "colab_type": "code",
        "outputId": "d69199d0-eabc-423a-a8ab-b8ffc4a677d8",
        "colab": {
          "base_uri": "https://localhost:8080/",
          "height": 136
        }
      },
      "cell_type": "code",
      "source": [
        "df['A'] # selecting column by name"
      ],
      "execution_count": 0,
      "outputs": [
        {
          "output_type": "execute_result",
          "data": {
            "text/plain": [
              "2013-01-01   -0.496258\n",
              "2013-01-02    2.339862\n",
              "2013-01-03    0.384474\n",
              "2013-01-04   -1.274437\n",
              "2013-01-05    1.008659\n",
              "2013-01-06   -1.249155\n",
              "Freq: D, Name: A, dtype: float64"
            ]
          },
          "metadata": {
            "tags": []
          },
          "execution_count": 114
        }
      ]
    },
    {
      "metadata": {
        "id": "mMFcuYJmen8O",
        "colab_type": "code",
        "outputId": "64e6040c-e934-4e04-80af-e91068a53573",
        "colab": {
          "base_uri": "https://localhost:8080/",
          "height": 142
        }
      },
      "cell_type": "code",
      "source": [
        "df[0:3] # selecting rows "
      ],
      "execution_count": 0,
      "outputs": [
        {
          "output_type": "execute_result",
          "data": {
            "text/html": [
              "<div>\n",
              "<style scoped>\n",
              "    .dataframe tbody tr th:only-of-type {\n",
              "        vertical-align: middle;\n",
              "    }\n",
              "\n",
              "    .dataframe tbody tr th {\n",
              "        vertical-align: top;\n",
              "    }\n",
              "\n",
              "    .dataframe thead th {\n",
              "        text-align: right;\n",
              "    }\n",
              "</style>\n",
              "<table border=\"1\" class=\"dataframe\">\n",
              "  <thead>\n",
              "    <tr style=\"text-align: right;\">\n",
              "      <th></th>\n",
              "      <th>A</th>\n",
              "      <th>B</th>\n",
              "      <th>C</th>\n",
              "      <th>D</th>\n",
              "    </tr>\n",
              "  </thead>\n",
              "  <tbody>\n",
              "    <tr>\n",
              "      <th>2013-01-01</th>\n",
              "      <td>-0.496258</td>\n",
              "      <td>-0.730723</td>\n",
              "      <td>-1.245745</td>\n",
              "      <td>0.545074</td>\n",
              "    </tr>\n",
              "    <tr>\n",
              "      <th>2013-01-02</th>\n",
              "      <td>2.339862</td>\n",
              "      <td>0.706279</td>\n",
              "      <td>0.810967</td>\n",
              "      <td>-1.138736</td>\n",
              "    </tr>\n",
              "    <tr>\n",
              "      <th>2013-01-03</th>\n",
              "      <td>0.384474</td>\n",
              "      <td>0.759304</td>\n",
              "      <td>-1.669582</td>\n",
              "      <td>0.100087</td>\n",
              "    </tr>\n",
              "  </tbody>\n",
              "</table>\n",
              "</div>"
            ],
            "text/plain": [
              "                   A         B         C         D\n",
              "2013-01-01 -0.496258 -0.730723 -1.245745  0.545074\n",
              "2013-01-02  2.339862  0.706279  0.810967 -1.138736\n",
              "2013-01-03  0.384474  0.759304 -1.669582  0.100087"
            ]
          },
          "metadata": {
            "tags": []
          },
          "execution_count": 115
        }
      ]
    },
    {
      "metadata": {
        "id": "FRTWlusje7Ne",
        "colab_type": "code",
        "outputId": "51efba9e-c57f-4985-8620-7d32ac5d78e6",
        "colab": {
          "base_uri": "https://localhost:8080/",
          "height": 142
        }
      },
      "cell_type": "code",
      "source": [
        "df['20130102':'20130104']"
      ],
      "execution_count": 0,
      "outputs": [
        {
          "output_type": "execute_result",
          "data": {
            "text/html": [
              "<div>\n",
              "<style scoped>\n",
              "    .dataframe tbody tr th:only-of-type {\n",
              "        vertical-align: middle;\n",
              "    }\n",
              "\n",
              "    .dataframe tbody tr th {\n",
              "        vertical-align: top;\n",
              "    }\n",
              "\n",
              "    .dataframe thead th {\n",
              "        text-align: right;\n",
              "    }\n",
              "</style>\n",
              "<table border=\"1\" class=\"dataframe\">\n",
              "  <thead>\n",
              "    <tr style=\"text-align: right;\">\n",
              "      <th></th>\n",
              "      <th>A</th>\n",
              "      <th>B</th>\n",
              "      <th>C</th>\n",
              "      <th>D</th>\n",
              "    </tr>\n",
              "  </thead>\n",
              "  <tbody>\n",
              "    <tr>\n",
              "      <th>2013-01-04</th>\n",
              "      <td>-1.274437</td>\n",
              "      <td>0.118514</td>\n",
              "      <td>0.433957</td>\n",
              "      <td>-0.470793</td>\n",
              "    </tr>\n",
              "    <tr>\n",
              "      <th>2013-01-03</th>\n",
              "      <td>0.384474</td>\n",
              "      <td>0.759304</td>\n",
              "      <td>-1.669582</td>\n",
              "      <td>0.100087</td>\n",
              "    </tr>\n",
              "    <tr>\n",
              "      <th>2013-01-02</th>\n",
              "      <td>2.339862</td>\n",
              "      <td>0.706279</td>\n",
              "      <td>0.810967</td>\n",
              "      <td>-1.138736</td>\n",
              "    </tr>\n",
              "  </tbody>\n",
              "</table>\n",
              "</div>"
            ],
            "text/plain": [
              "                   A         B         C         D\n",
              "2013-01-04 -1.274437  0.118514  0.433957 -0.470793\n",
              "2013-01-03  0.384474  0.759304 -1.669582  0.100087\n",
              "2013-01-02  2.339862  0.706279  0.810967 -1.138736"
            ]
          },
          "metadata": {
            "tags": []
          },
          "execution_count": 117
        }
      ]
    },
    {
      "metadata": {
        "id": "AUbalXXKfLhL",
        "colab_type": "text"
      },
      "cell_type": "markdown",
      "source": [
        "***loc*** gets rows (or columns) with particular labels from the index. \n",
        "\n",
        "***iloc*** gets rows (or columns) at particular positions in the index (so it only takes integers)."
      ]
    },
    {
      "metadata": {
        "id": "mOd-nTVEe_EE",
        "colab_type": "code",
        "outputId": "bfbb4f94-55de-4d8e-9081-f72f0f0f4e64",
        "colab": {
          "base_uri": "https://localhost:8080/",
          "height": 102
        }
      },
      "cell_type": "code",
      "source": [
        "df.loc[dates[0]] # selecting by label"
      ],
      "execution_count": 0,
      "outputs": [
        {
          "output_type": "execute_result",
          "data": {
            "text/plain": [
              "A   -0.496258\n",
              "B   -0.730723\n",
              "C   -1.245745\n",
              "D    0.545074\n",
              "Name: 2013-01-01 00:00:00, dtype: float64"
            ]
          },
          "metadata": {
            "tags": []
          },
          "execution_count": 118
        }
      ]
    },
    {
      "metadata": {
        "id": "nogeUrk6fRDm",
        "colab_type": "code",
        "colab": {}
      },
      "cell_type": "code",
      "source": [
        "df.loc['20130102':'20130104', ['A', 'B']]"
      ],
      "execution_count": 0,
      "outputs": []
    },
    {
      "metadata": {
        "id": "1_kur4uxfWcL",
        "colab_type": "code",
        "outputId": "65daf5ec-2a3d-411d-94fe-1e24dfb43e1e",
        "colab": {
          "base_uri": "https://localhost:8080/",
          "height": 111
        }
      },
      "cell_type": "code",
      "source": [
        "df.iloc[3:5, 0:2] # selection by undex"
      ],
      "execution_count": 0,
      "outputs": [
        {
          "output_type": "execute_result",
          "data": {
            "text/html": [
              "<div>\n",
              "<style scoped>\n",
              "    .dataframe tbody tr th:only-of-type {\n",
              "        vertical-align: middle;\n",
              "    }\n",
              "\n",
              "    .dataframe tbody tr th {\n",
              "        vertical-align: top;\n",
              "    }\n",
              "\n",
              "    .dataframe thead th {\n",
              "        text-align: right;\n",
              "    }\n",
              "</style>\n",
              "<table border=\"1\" class=\"dataframe\">\n",
              "  <thead>\n",
              "    <tr style=\"text-align: right;\">\n",
              "      <th></th>\n",
              "      <th>A</th>\n",
              "      <th>B</th>\n",
              "    </tr>\n",
              "  </thead>\n",
              "  <tbody>\n",
              "    <tr>\n",
              "      <th>2013-01-03</th>\n",
              "      <td>0.384474</td>\n",
              "      <td>0.759304</td>\n",
              "    </tr>\n",
              "    <tr>\n",
              "      <th>2013-01-05</th>\n",
              "      <td>1.008659</td>\n",
              "      <td>0.357255</td>\n",
              "    </tr>\n",
              "  </tbody>\n",
              "</table>\n",
              "</div>"
            ],
            "text/plain": [
              "                   A         B\n",
              "2013-01-03  0.384474  0.759304\n",
              "2013-01-05  1.008659  0.357255"
            ]
          },
          "metadata": {
            "tags": []
          },
          "execution_count": 119
        }
      ]
    },
    {
      "metadata": {
        "id": "S8QgAn77fcC0",
        "colab_type": "text"
      },
      "cell_type": "markdown",
      "source": [
        "## Boolean Indexing"
      ]
    },
    {
      "metadata": {
        "id": "Fxnhmo9vfdfu",
        "colab_type": "code",
        "outputId": "3531d2be-bcd2-4f0e-cdf9-ab6203c2731f",
        "colab": {
          "base_uri": "https://localhost:8080/",
          "height": 142
        }
      },
      "cell_type": "code",
      "source": [
        "df[df.A > 0]"
      ],
      "execution_count": 0,
      "outputs": [
        {
          "output_type": "execute_result",
          "data": {
            "text/html": [
              "<div>\n",
              "<style scoped>\n",
              "    .dataframe tbody tr th:only-of-type {\n",
              "        vertical-align: middle;\n",
              "    }\n",
              "\n",
              "    .dataframe tbody tr th {\n",
              "        vertical-align: top;\n",
              "    }\n",
              "\n",
              "    .dataframe thead th {\n",
              "        text-align: right;\n",
              "    }\n",
              "</style>\n",
              "<table border=\"1\" class=\"dataframe\">\n",
              "  <thead>\n",
              "    <tr style=\"text-align: right;\">\n",
              "      <th></th>\n",
              "      <th>A</th>\n",
              "      <th>B</th>\n",
              "      <th>C</th>\n",
              "      <th>D</th>\n",
              "    </tr>\n",
              "  </thead>\n",
              "  <tbody>\n",
              "    <tr>\n",
              "      <th>2013-01-03</th>\n",
              "      <td>0.384474</td>\n",
              "      <td>0.759304</td>\n",
              "      <td>-1.669582</td>\n",
              "      <td>0.100087</td>\n",
              "    </tr>\n",
              "    <tr>\n",
              "      <th>2013-01-05</th>\n",
              "      <td>1.008659</td>\n",
              "      <td>0.357255</td>\n",
              "      <td>1.040918</td>\n",
              "      <td>0.926418</td>\n",
              "    </tr>\n",
              "    <tr>\n",
              "      <th>2013-01-02</th>\n",
              "      <td>2.339862</td>\n",
              "      <td>0.706279</td>\n",
              "      <td>0.810967</td>\n",
              "      <td>-1.138736</td>\n",
              "    </tr>\n",
              "  </tbody>\n",
              "</table>\n",
              "</div>"
            ],
            "text/plain": [
              "                   A         B         C         D\n",
              "2013-01-03  0.384474  0.759304 -1.669582  0.100087\n",
              "2013-01-05  1.008659  0.357255  1.040918  0.926418\n",
              "2013-01-02  2.339862  0.706279  0.810967 -1.138736"
            ]
          },
          "metadata": {
            "tags": []
          },
          "execution_count": 120
        }
      ]
    },
    {
      "metadata": {
        "id": "ec89r_3NfiGV",
        "colab_type": "code",
        "outputId": "a3c4890c-85ea-43d2-d74f-ab4cd5404dcd",
        "colab": {
          "base_uri": "https://localhost:8080/",
          "height": 235
        }
      },
      "cell_type": "code",
      "source": [
        "#Using the isin() method for filtering:\n",
        "df2 = df.copy()\n",
        "df2['E'] = ['one', 'one', 'two', 'three', 'four', 'three']\n",
        "df2"
      ],
      "execution_count": 0,
      "outputs": [
        {
          "output_type": "execute_result",
          "data": {
            "text/html": [
              "<div>\n",
              "<style scoped>\n",
              "    .dataframe tbody tr th:only-of-type {\n",
              "        vertical-align: middle;\n",
              "    }\n",
              "\n",
              "    .dataframe tbody tr th {\n",
              "        vertical-align: top;\n",
              "    }\n",
              "\n",
              "    .dataframe thead th {\n",
              "        text-align: right;\n",
              "    }\n",
              "</style>\n",
              "<table border=\"1\" class=\"dataframe\">\n",
              "  <thead>\n",
              "    <tr style=\"text-align: right;\">\n",
              "      <th></th>\n",
              "      <th>A</th>\n",
              "      <th>B</th>\n",
              "      <th>C</th>\n",
              "      <th>D</th>\n",
              "      <th>E</th>\n",
              "    </tr>\n",
              "  </thead>\n",
              "  <tbody>\n",
              "    <tr>\n",
              "      <th>2013-01-04</th>\n",
              "      <td>-1.274437</td>\n",
              "      <td>0.118514</td>\n",
              "      <td>0.433957</td>\n",
              "      <td>-0.470793</td>\n",
              "      <td>one</td>\n",
              "    </tr>\n",
              "    <tr>\n",
              "      <th>2013-01-06</th>\n",
              "      <td>-1.249155</td>\n",
              "      <td>1.257724</td>\n",
              "      <td>-1.774290</td>\n",
              "      <td>-0.371438</td>\n",
              "      <td>one</td>\n",
              "    </tr>\n",
              "    <tr>\n",
              "      <th>2013-01-01</th>\n",
              "      <td>-0.496258</td>\n",
              "      <td>-0.730723</td>\n",
              "      <td>-1.245745</td>\n",
              "      <td>0.545074</td>\n",
              "      <td>two</td>\n",
              "    </tr>\n",
              "    <tr>\n",
              "      <th>2013-01-03</th>\n",
              "      <td>0.384474</td>\n",
              "      <td>0.759304</td>\n",
              "      <td>-1.669582</td>\n",
              "      <td>0.100087</td>\n",
              "      <td>three</td>\n",
              "    </tr>\n",
              "    <tr>\n",
              "      <th>2013-01-05</th>\n",
              "      <td>1.008659</td>\n",
              "      <td>0.357255</td>\n",
              "      <td>1.040918</td>\n",
              "      <td>0.926418</td>\n",
              "      <td>four</td>\n",
              "    </tr>\n",
              "    <tr>\n",
              "      <th>2013-01-02</th>\n",
              "      <td>2.339862</td>\n",
              "      <td>0.706279</td>\n",
              "      <td>0.810967</td>\n",
              "      <td>-1.138736</td>\n",
              "      <td>three</td>\n",
              "    </tr>\n",
              "  </tbody>\n",
              "</table>\n",
              "</div>"
            ],
            "text/plain": [
              "                   A         B         C         D      E\n",
              "2013-01-04 -1.274437  0.118514  0.433957 -0.470793    one\n",
              "2013-01-06 -1.249155  1.257724 -1.774290 -0.371438    one\n",
              "2013-01-01 -0.496258 -0.730723 -1.245745  0.545074    two\n",
              "2013-01-03  0.384474  0.759304 -1.669582  0.100087  three\n",
              "2013-01-05  1.008659  0.357255  1.040918  0.926418   four\n",
              "2013-01-02  2.339862  0.706279  0.810967 -1.138736  three"
            ]
          },
          "metadata": {
            "tags": []
          },
          "execution_count": 121
        }
      ]
    },
    {
      "metadata": {
        "id": "Yrv2flqtfnvc",
        "colab_type": "code",
        "outputId": "97a7de00-db5a-4227-d2e1-89e23c068653",
        "colab": {
          "base_uri": "https://localhost:8080/",
          "height": 111
        }
      },
      "cell_type": "code",
      "source": [
        "df2[df2['E'].isin(['two', 'four'])]"
      ],
      "execution_count": 0,
      "outputs": [
        {
          "output_type": "execute_result",
          "data": {
            "text/html": [
              "<div>\n",
              "<style scoped>\n",
              "    .dataframe tbody tr th:only-of-type {\n",
              "        vertical-align: middle;\n",
              "    }\n",
              "\n",
              "    .dataframe tbody tr th {\n",
              "        vertical-align: top;\n",
              "    }\n",
              "\n",
              "    .dataframe thead th {\n",
              "        text-align: right;\n",
              "    }\n",
              "</style>\n",
              "<table border=\"1\" class=\"dataframe\">\n",
              "  <thead>\n",
              "    <tr style=\"text-align: right;\">\n",
              "      <th></th>\n",
              "      <th>A</th>\n",
              "      <th>B</th>\n",
              "      <th>C</th>\n",
              "      <th>D</th>\n",
              "      <th>E</th>\n",
              "    </tr>\n",
              "  </thead>\n",
              "  <tbody>\n",
              "    <tr>\n",
              "      <th>2013-01-01</th>\n",
              "      <td>-0.496258</td>\n",
              "      <td>-0.730723</td>\n",
              "      <td>-1.245745</td>\n",
              "      <td>0.545074</td>\n",
              "      <td>two</td>\n",
              "    </tr>\n",
              "    <tr>\n",
              "      <th>2013-01-05</th>\n",
              "      <td>1.008659</td>\n",
              "      <td>0.357255</td>\n",
              "      <td>1.040918</td>\n",
              "      <td>0.926418</td>\n",
              "      <td>four</td>\n",
              "    </tr>\n",
              "  </tbody>\n",
              "</table>\n",
              "</div>"
            ],
            "text/plain": [
              "                   A         B         C         D     E\n",
              "2013-01-01 -0.496258 -0.730723 -1.245745  0.545074   two\n",
              "2013-01-05  1.008659  0.357255  1.040918  0.926418  four"
            ]
          },
          "metadata": {
            "tags": []
          },
          "execution_count": 122
        }
      ]
    },
    {
      "metadata": {
        "id": "8Dia2P88friN",
        "colab_type": "text"
      },
      "cell_type": "markdown",
      "source": [
        "## Operations \n",
        "\n",
        "### Statistics"
      ]
    },
    {
      "metadata": {
        "id": "cRsKdgeKfuVJ",
        "colab_type": "code",
        "outputId": "e1617c9d-ad8a-4719-bde7-2c3c85894adb",
        "colab": {
          "base_uri": "https://localhost:8080/",
          "height": 102
        }
      },
      "cell_type": "code",
      "source": [
        "df.mean() #Performing average over columns"
      ],
      "execution_count": 0,
      "outputs": [
        {
          "output_type": "execute_result",
          "data": {
            "text/plain": [
              "A    0.118858\n",
              "B    0.411392\n",
              "C   -0.400629\n",
              "D   -0.068232\n",
              "dtype: float64"
            ]
          },
          "metadata": {
            "tags": []
          },
          "execution_count": 123
        }
      ]
    },
    {
      "metadata": {
        "id": "ZNdaMorBfv5h",
        "colab_type": "code",
        "outputId": "d72eff4c-d771-4820-856f-3b9d337b73e7",
        "colab": {
          "base_uri": "https://localhost:8080/",
          "height": 136
        }
      },
      "cell_type": "code",
      "source": [
        "#Performing average over rows\n",
        "df.mean(1)"
      ],
      "execution_count": 0,
      "outputs": [
        {
          "output_type": "execute_result",
          "data": {
            "text/plain": [
              "2013-01-04   -0.298190\n",
              "2013-01-06   -0.534290\n",
              "2013-01-01   -0.481913\n",
              "2013-01-03   -0.106429\n",
              "2013-01-05    0.833313\n",
              "2013-01-02    0.679593\n",
              "dtype: float64"
            ]
          },
          "metadata": {
            "tags": []
          },
          "execution_count": 124
        }
      ]
    }
  ]
}